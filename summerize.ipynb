{
 "cells": [
  {
   "cell_type": "code",
   "execution_count": null,
   "id": "cf0f9780",
   "metadata": {},
   "outputs": [],
   "source": [
    "from transformers import pipeline"
   ]
  },
  {
   "cell_type": "code",
   "execution_count": null,
   "id": "5eb93f46",
   "metadata": {},
   "outputs": [],
   "source": [
    "summay = pipeline(task='summarization')"
   ]
  },
  {
   "cell_type": "code",
   "execution_count": null,
   "id": "ce43a1b5",
   "metadata": {},
   "outputs": [],
   "source": [
    "original_text = \"\"\"\n",
    "Paul Walker is hardly the first actor to die during a production. \n",
    "But Walker's death in November 2013 at the age of 40 after a car crash was especially eerie given his rise to fame in the \"Fast and Furious\" film franchise. \n",
    "The release of \"Furious 7\" on Friday offers the opportunity for fans to remember -- and possibly grieve again -- the man that so many have praised as one of the nicest guys in Hollywood. \n",
    "\"He was a person of humility, integrity, and compassion,\" military veteran Kyle Upham said in an email to CNN. \n",
    "Walker secretly paid for the engagement ring Upham shopped for with his bride. \n",
    "\"We didn't know him personally but this was apparent in the short time we spent with him. \n",
    "I know that we will never forget him and he will always be someone very special to us,\" said Upham. \n",
    "The actor was on break from filming \"Furious 7\" at the time of the fiery accident, which also claimed the life of the car's driver, Roger Rodas. \n",
    "Producers said early on that they would not kill off Walker's character, Brian O'Connor, a former cop turned road racer. Instead, the script was rewritten and special effects were used to finish scenes, with Walker's brothers, Cody and Caleb, serving as body doubles. \n",
    "There are scenes that will resonate with the audience -- including the ending, in which the filmmakers figured out a touching way to pay tribute to Walker while \"retiring\" his character. At the premiere Wednesday night in Hollywood, Walker's co-star and close friend Vin Diesel gave a tearful speech before the screening, saying \"This movie is more than a movie.\" \"You'll feel it when you see it,\" Diesel said. \"There's something emotional that happens to you, where you walk out of this movie and you appreciate everyone you love because you just never know when the last day is you're gonna see them.\" There have been multiple tributes to Walker leading up to the release. Diesel revealed in an interview with the \"Today\" show that he had named his newborn daughter after Walker. \n",
    "Social media has also been paying homage to the late actor. A week after Walker's death, about 5,000 people attended an outdoor memorial to him in Los Angeles. Most had never met him. Marcus Coleman told CNN he spent almost $1,000 to truck in a banner from Bakersfield for people to sign at the memorial. \"It's like losing a friend or a really close family member ... even though he is an actor and we never really met face to face,\" Coleman said. \"Sitting there, bringing his movies into your house or watching on TV, it's like getting to know somebody. It really, really hurts.\" Walker's younger brother Cody told People magazine that he was initially nervous about how \"Furious 7\" would turn out, but he is happy with the film. \"It's bittersweet, but I think Paul would be proud,\" he said. CNN's Paul Vercammen contributed to this report.\n",
    "\"\"\""
   ]
  },
  {
   "cell_type": "code",
   "execution_count": null,
   "id": "f3f5c108",
   "metadata": {},
   "outputs": [],
   "source": [
    "sum_text = summay(original_text)"
   ]
  },
  {
   "cell_type": "code",
   "execution_count": null,
   "id": "8d6b166f",
   "metadata": {},
   "outputs": [],
   "source": []
  },
  {
   "cell_type": "code",
   "execution_count": 2,
   "id": "0e7840f1",
   "metadata": {},
   "outputs": [],
   "source": [
    "from transformers import T5Tokenizer, T5ForConditionalGeneration\n",
    "\n",
    "tokenizer = T5Tokenizer.from_pretrained(\"cahya/t5-base-indonesian-summarization-cased\")\n",
    "model = T5ForConditionalGeneration.from_pretrained(\"cahya/t5-base-indonesian-summarization-cased\")"
   ]
  },
  {
   "cell_type": "code",
   "execution_count": 6,
   "id": "4709edc1",
   "metadata": {},
   "outputs": [],
   "source": [
    "ARTICLE_TO_SUMMARIZE = \"\"\"  Polri menyelidiki sejumlah pelaku kericuhan berasal dari kelompok anarko saat demo 11 April 2022 yang berlangsung hari ini. Tim dari tiap polda tengah mendalami keterlibatan kelompok anarko.\n",
    "\"Saat ini juga masih didalami oleh Polda Metro Jaya, kelompok-kelompok anarko masuk ke situ dari identitas bajunya. Kemudian kekhasan dia. Ini yang masih didalami rekan-rekan Polda Metro Jaya dan juga beberapa wilayah,\" ujar Kadiv Humas Polri Irjen Dedi Prasetyo kepada wartawan di kantornya, Senin (11/4/2022) malam.\n",
    "\n",
    "Dedi menjelaskan, Polri sejak awal sudah mengingatkan agar di setiap aksi jangan sampai ada penyusup yang masuk. Dia pun memuji mahasiswa yang sudah melakukan pencegahan terhadap penyusup secara baik.\n",
    "\n",
    "\"Dari awal Mabes Polri sudah mengingatkan jangan sampai terjadi penyusupan-penyusupan yang tidak kita inginkan. Kita sudah me-warning, dan mahasiswa sudah melakukan protect dengan cukup baik,\" jelasnya.\n",
    "\n",
    "\"Tapi dalam setiap demo pada kenyataannya selalu ada yang disusupi orang-orang yang tidak bertanggung jawab, sehingga melakukan tindakan-tindakan anarkis yang betul-betul kita selasih bersama,\" sambung Dedi.\n",
    "\n",
    "Lebih lanjut, Dedi mengingatkan agar demonstrasi selalu dilakukan sesuai dengan Undang-Undang Nomor 9 Tahun 1998. Dedi menjelaskan polisi memiliki kewajiban untuk memberi perlindungan di setiap kegiatan unjuk rasa.\n",
    "\n",
    "\"Harapan kami ke depan di dalam menyampaikan aspirasi atau unjuk rasa atau demo atau menyampaikan pendapat dimuka umum sesuai Undang-Undang Nomor 9 Tahun 1998,\" tuturnya.\n",
    "\"\"\""
   ]
  },
  {
   "cell_type": "code",
   "execution_count": 7,
   "id": "42c76f19",
   "metadata": {},
   "outputs": [],
   "source": [
    "input_ids = tokenizer.encode(ARTICLE_TO_SUMMARIZE, return_tensors='pt')\n",
    "summary_ids = model.generate(input_ids,\n",
    "            min_length=40,\n",
    "            max_length=80,\n",
    "            num_beams=10,\n",
    "            repetition_penalty=2.5,\n",
    "            length_penalty=1.0,\n",
    "            early_stopping=True,\n",
    "            no_repeat_ngram_size=2,\n",
    "            use_cache=True,\n",
    "            do_sample = True,\n",
    "            temperature = 0.8,\n",
    "            top_k = 50,\n",
    "            top_p = 0.95)"
   ]
  },
  {
   "cell_type": "code",
   "execution_count": 8,
   "id": "3b9a29a2",
   "metadata": {},
   "outputs": [
    {
     "name": "stdout",
     "output_type": "stream",
     "text": [
      "Tim dari tiap polda tengah mendalami keterlibatan kelompok anarko saat demo 11 April 2022 yang berlangsung hari ini. Sementara Kadiv Humas Polri Irjen Dedi Prasetyo mengatakan, polisi memiliki kewajiban untuk memberi perlindungan di setiap kegiatan demonstrasi.\n"
     ]
    }
   ],
   "source": [
    "summary_text = tokenizer.decode(summary_ids[0], skip_special_tokens=True)\n",
    "print(summary_text)"
   ]
  },
  {
   "cell_type": "code",
   "execution_count": null,
   "id": "fa00b862",
   "metadata": {},
   "outputs": [],
   "source": []
  }
 ],
 "metadata": {
  "kernelspec": {
   "display_name": "Python 3 (ipykernel)",
   "language": "python",
   "name": "python3"
  },
  "language_info": {
   "codemirror_mode": {
    "name": "ipython",
    "version": 3
   },
   "file_extension": ".py",
   "mimetype": "text/x-python",
   "name": "python",
   "nbconvert_exporter": "python",
   "pygments_lexer": "ipython3",
   "version": "3.9.7"
  }
 },
 "nbformat": 4,
 "nbformat_minor": 5
}
